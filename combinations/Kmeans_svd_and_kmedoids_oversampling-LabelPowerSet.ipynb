{
 "cells": [
  {
   "cell_type": "code",
   "execution_count": 1,
   "metadata": {},
   "outputs": [],
   "source": [
    "import numpy as np\n",
    "import pandas as pd"
   ]
  },
  {
   "cell_type": "code",
   "execution_count": 2,
   "metadata": {},
   "outputs": [],
   "source": [
    "path = \"C:/Users/User/Desktop/AI/10. Artificial Intelligence/4. 4rth semester/Advanced ML/project/datasets/DeliciousMIL/Data/\""
   ]
  },
  {
   "cell_type": "code",
   "execution_count": 3,
   "metadata": {},
   "outputs": [],
   "source": [
    "labels = []\n",
    "\n",
    "for item in open(\"C:/Users/User/Desktop/AI/10. Artificial Intelligence/4. 4rth semester/Advanced ML/project/datasets/DeliciousMIL/Data/labels.txt\").readlines():\n",
    "    item = item.replace('\\n', '')\n",
    "    label_name, _ = item.split(', ')\n",
    "    labels.append(label_name)"
   ]
  },
  {
   "cell_type": "code",
   "execution_count": 5,
   "metadata": {},
   "outputs": [
    {
     "data": {
      "text/plain": [
       "['programming',\n",
       " 'style',\n",
       " 'reference',\n",
       " 'java',\n",
       " 'web',\n",
       " 'internet',\n",
       " 'culture',\n",
       " 'design',\n",
       " 'education',\n",
       " 'language',\n",
       " 'books',\n",
       " 'writing',\n",
       " 'computer',\n",
       " 'english',\n",
       " 'politics',\n",
       " 'history',\n",
       " 'philosophy',\n",
       " 'science',\n",
       " 'religion',\n",
       " 'grammar']"
      ]
     },
     "execution_count": 5,
     "metadata": {},
     "output_type": "execute_result"
    }
   ],
   "source": [
    "labels"
   ]
  },
  {
   "cell_type": "code",
   "execution_count": 4,
   "metadata": {},
   "outputs": [
    {
     "name": "stdout",
     "output_type": "stream",
     "text": [
      "149925\n",
      "['rubi rail helper demo more info auto complet', 'see new helper action', 'null length substr locat', 'exec messag messag pleas edit remov follow word content', 'roll stone com news song previou next page', 'good vibrat beach boy', 'smell teen spirit nirvana', 'want hold hand beatl', 'hound dog elvi', 'god know beach boy', 'walk line johnni cash', 'heaven led zeppelin']\n",
      "149925\n",
      "965852\n"
     ]
    }
   ],
   "source": [
    "from sklearn.feature_extraction.text import CountVectorizer\n",
    "from sklearn.feature_extraction.text import TfidfTransformer\n",
    "from sklearn.metrics import confusion_matrix\n",
    "\n",
    "import numpy as np\n",
    "\n",
    "# path = \"../Data/\"\n",
    "words = []\n",
    "\n",
    "\n",
    "def train_to_sentence_form(path):\n",
    "    # reads the file to a format of docs[doc[[sentence1],[sentence2]],...]\n",
    "    docs=[]\n",
    "    num_of_sentences = []\n",
    "    with open(path) as f:\n",
    "        line = f.readline()\n",
    "        while line:\n",
    "            line = line.rstrip('\\n').split(\" \")\n",
    "            #print(line)\n",
    "            num = line.pop(0)\n",
    "            #print(num)\n",
    "            number = int(num[1:-1])\n",
    "            num_of_sentences.append(number)\n",
    "            len_of_sentence = []\n",
    "\n",
    "            for i,k in enumerate(line):\n",
    "                if k.startswith('<'):\n",
    "                    k=k[1:-1]\n",
    "                    len_of_sentence.append(int(k))\n",
    "                    line.pop(i)\n",
    "            doc_sentence=[]       \n",
    "            sentence=[]\n",
    "            for j in len_of_sentence:\n",
    "                sentence = line[:j]\n",
    "                line=line[j:]\n",
    "                docs.append( sentence) \n",
    "            line = f.readline()\n",
    "    print(len(docs))\n",
    "    return docs,num_of_sentences     \n",
    "    #docs is a list of lists where each list is a different sentence\n",
    "\n",
    "vocabs = open(path+\"vocabs.txt\").readlines()\n",
    "for vocab in vocabs:\n",
    "    word, _ = vocab.split(', ')\n",
    "    words.append(word)\n",
    "\n",
    "train_label = [i.strip() for i in open(path+\"train-label.dat\").readlines()]\n",
    "train_label = np.array(train_label)\n",
    "\n",
    "docs,num_sentences = train_to_sentence_form(path+\"train-data.dat\")\n",
    "\n",
    "data = []\n",
    "for i in docs:\n",
    "    final_L = ''\n",
    "    for l in i:\n",
    "        final_L = final_L + ' ' + words[int(l)]\n",
    "    data.append(final_L[1:])\n",
    "print(data[:12])\n",
    "print(len(data))       \n",
    "count_vect = CountVectorizer()\n",
    "X_train_counts = count_vect.fit_transform(data)\n",
    "print(X_train_counts.size)\n",
    "tfidf_transformer = TfidfTransformer()\n",
    "X_train_tfidf = tfidf_transformer.fit_transform(X_train_counts)"
   ]
  },
  {
   "cell_type": "code",
   "execution_count": 7,
   "metadata": {
    "scrolled": false
   },
   "outputs": [
    {
     "name": "stdout",
     "output_type": "stream",
     "text": [
      "Requirement already satisfied: imblearn in c:\\users\\user\\anaconda3\\lib\\site-packages (0.0)\n",
      "Requirement already satisfied: imbalanced-learn in c:\\users\\user\\anaconda3\\lib\\site-packages (from imblearn) (0.7.0)\n",
      "Requirement already satisfied: joblib>=0.11 in c:\\users\\user\\anaconda3\\lib\\site-packages (from imbalanced-learn->imblearn) (0.13.2)\n",
      "Requirement already satisfied: scipy>=0.19.1 in c:\\users\\user\\anaconda3\\lib\\site-packages (from imbalanced-learn->imblearn) (1.4.1)\n",
      "Requirement already satisfied: numpy>=1.13.3 in c:\\users\\user\\anaconda3\\lib\\site-packages (from imbalanced-learn->imblearn) (1.18.2)\n",
      "Requirement already satisfied: scikit-learn>=0.23 in c:\\users\\user\\anaconda3\\lib\\site-packages (from imbalanced-learn->imblearn) (0.23.1)\n",
      "Requirement already satisfied: threadpoolctl>=2.0.0 in c:\\users\\user\\anaconda3\\lib\\site-packages (from scikit-learn>=0.23->imbalanced-learn->imblearn) (2.1.0)\n"
     ]
    },
    {
     "name": "stderr",
     "output_type": "stream",
     "text": [
      "WARNING: You are using pip version 20.1; however, version 20.1.1 is available.\n",
      "You should consider upgrading via the 'c:\\users\\user\\anaconda3\\python.exe -m pip install --upgrade pip' command.\n"
     ]
    }
   ],
   "source": [
    "!pip install imblearn"
   ]
  },
  {
   "cell_type": "code",
   "execution_count": 5,
   "metadata": {
    "scrolled": true
   },
   "outputs": [
    {
     "name": "stdout",
     "output_type": "stream",
     "text": [
      "Requirement already satisfied: keras==2.2.4 in c:\\users\\user\\anaconda3\\lib\\site-packages (2.2.4)\n",
      "Requirement already satisfied: six>=1.9.0 in c:\\users\\user\\anaconda3\\lib\\site-packages (from keras==2.2.4) (1.14.0)\n",
      "Requirement already satisfied: keras-preprocessing>=1.0.5 in c:\\users\\user\\anaconda3\\lib\\site-packages (from keras==2.2.4) (1.1.0)\n",
      "Requirement already satisfied: scipy>=0.14 in c:\\users\\user\\anaconda3\\lib\\site-packages (from keras==2.2.4) (1.4.1)\n",
      "Requirement already satisfied: keras-applications>=1.0.6 in c:\\users\\user\\anaconda3\\lib\\site-packages (from keras==2.2.4) (1.0.8)\n",
      "Requirement already satisfied: numpy>=1.9.1 in c:\\users\\user\\anaconda3\\lib\\site-packages (from keras==2.2.4) (1.18.2)\n",
      "Requirement already satisfied: h5py in c:\\users\\user\\anaconda3\\lib\\site-packages (from keras==2.2.4) (2.10.0)\n",
      "Requirement already satisfied: pyyaml in c:\\users\\user\\anaconda3\\lib\\site-packages (from keras==2.2.4) (5.1.2)\n"
     ]
    },
    {
     "name": "stderr",
     "output_type": "stream",
     "text": [
      "WARNING: You are using pip version 20.1; however, version 20.1.1 is available.\n",
      "You should consider upgrading via the 'c:\\users\\user\\anaconda3\\python.exe -m pip install --upgrade pip' command.\n"
     ]
    }
   ],
   "source": [
    "!pip install keras==2.2.4"
   ]
  },
  {
   "cell_type": "code",
   "execution_count": 6,
   "metadata": {},
   "outputs": [
    {
     "name": "stdout",
     "output_type": "stream",
     "text": [
      "Collecting tensorflow==1.14.0\n",
      "  Using cached tensorflow-1.14.0-cp37-cp37m-win_amd64.whl (68.3 MB)\n",
      "Requirement already satisfied: keras-applications>=1.0.6 in c:\\users\\user\\anaconda3\\lib\\site-packages (from tensorflow==1.14.0) (1.0.8)\n",
      "Requirement already satisfied: astor>=0.6.0 in c:\\users\\user\\anaconda3\\lib\\site-packages (from tensorflow==1.14.0) (0.8.0)\n",
      "Requirement already satisfied: grpcio>=1.8.6 in c:\\users\\user\\anaconda3\\lib\\site-packages (from tensorflow==1.14.0) (1.27.2)\n",
      "Requirement already satisfied: protobuf>=3.6.1 in c:\\users\\user\\anaconda3\\lib\\site-packages (from tensorflow==1.14.0) (3.11.4)\n",
      "Requirement already satisfied: keras-preprocessing>=1.0.5 in c:\\users\\user\\anaconda3\\lib\\site-packages (from tensorflow==1.14.0) (1.1.0)\n",
      "Collecting tensorboard<1.15.0,>=1.14.0\n",
      "  Downloading tensorboard-1.14.0-py3-none-any.whl (3.1 MB)\n",
      "Requirement already satisfied: wrapt>=1.11.1 in c:\\users\\user\\anaconda3\\lib\\site-packages (from tensorflow==1.14.0) (1.11.2)\n",
      "Requirement already satisfied: gast>=0.2.0 in c:\\users\\user\\anaconda3\\lib\\site-packages (from tensorflow==1.14.0) (0.2.2)\n",
      "Collecting tensorflow-estimator<1.15.0rc0,>=1.14.0rc0\n",
      "  Downloading tensorflow_estimator-1.14.0-py2.py3-none-any.whl (488 kB)\n",
      "Requirement already satisfied: numpy<2.0,>=1.14.5 in c:\\users\\user\\anaconda3\\lib\\site-packages (from tensorflow==1.14.0) (1.18.2)\n",
      "Requirement already satisfied: absl-py>=0.7.0 in c:\\users\\user\\anaconda3\\lib\\site-packages (from tensorflow==1.14.0) (0.9.0)\n",
      "Requirement already satisfied: google-pasta>=0.1.6 in c:\\users\\user\\anaconda3\\lib\\site-packages (from tensorflow==1.14.0) (0.2.0)\n",
      "Requirement already satisfied: six>=1.10.0 in c:\\users\\user\\anaconda3\\lib\\site-packages (from tensorflow==1.14.0) (1.14.0)\n",
      "Requirement already satisfied: wheel>=0.26 in c:\\users\\user\\anaconda3\\lib\\site-packages (from tensorflow==1.14.0) (0.34.2)\n",
      "Requirement already satisfied: termcolor>=1.1.0 in c:\\users\\user\\anaconda3\\lib\\site-packages (from tensorflow==1.14.0) (1.1.0)\n",
      "Requirement already satisfied: h5py in c:\\users\\user\\anaconda3\\lib\\site-packages (from keras-applications>=1.0.6->tensorflow==1.14.0) (2.10.0)\n",
      "Requirement already satisfied: setuptools in c:\\users\\user\\anaconda3\\lib\\site-packages (from protobuf>=3.6.1->tensorflow==1.14.0) (46.1.3)\n",
      "Requirement already satisfied: werkzeug>=0.11.15 in c:\\users\\user\\anaconda3\\lib\\site-packages (from tensorboard<1.15.0,>=1.14.0->tensorflow==1.14.0) (0.16.0)\n",
      "Requirement already satisfied: markdown>=2.6.8 in c:\\users\\user\\anaconda3\\lib\\site-packages (from tensorboard<1.15.0,>=1.14.0->tensorflow==1.14.0) (3.1.1)\n",
      "Installing collected packages: tensorboard, tensorflow-estimator, tensorflow\n",
      "  Attempting uninstall: tensorboard\n",
      "    Found existing installation: tensorboard 2.2.1\n",
      "    Uninstalling tensorboard-2.2.1:\n",
      "      Successfully uninstalled tensorboard-2.2.1\n",
      "  Attempting uninstall: tensorflow-estimator\n",
      "    Found existing installation: tensorflow-estimator 2.1.0\n",
      "    Uninstalling tensorflow-estimator-2.1.0:\n",
      "      Successfully uninstalled tensorflow-estimator-2.1.0\n",
      "  Attempting uninstall: tensorflow\n",
      "    Found existing installation: tensorflow 2.1.0\n",
      "    Uninstalling tensorflow-2.1.0:\n",
      "      Successfully uninstalled tensorflow-2.1.0\n"
     ]
    },
    {
     "name": "stderr",
     "output_type": "stream",
     "text": [
      "ERROR: Could not install packages due to an EnvironmentError: [WinError 5] Δεν επιτρέπεται η πρόσβαση: 'c:\\\\users\\\\user\\\\anaconda3\\\\lib\\\\site-packages\\\\~-nsorflow_core\\\\lite\\\\experimental\\\\microfrontend\\\\python\\\\ops\\\\_audio_microfrontend_op.so'\n",
      "Consider using the `--user` option or check the permissions.\n",
      "\n",
      "WARNING: You are using pip version 20.1; however, version 20.1.1 is available.\n",
      "You should consider upgrading via the 'c:\\users\\user\\anaconda3\\python.exe -m pip install --upgrade pip' command.\n"
     ]
    }
   ],
   "source": [
    "!pip install tensorflow==1.14.0"
   ]
  },
  {
   "cell_type": "code",
   "execution_count": 5,
   "metadata": {
    "scrolled": false
   },
   "outputs": [
    {
     "name": "stderr",
     "output_type": "stream",
     "text": [
      "C:\\Users\\User\\Anaconda3\\lib\\site-packages\\sklearn\\utils\\deprecation.py:143: FutureWarning: The sklearn.neighbors.base module is  deprecated in version 0.22 and will be removed in version 0.24. The corresponding classes / functions should instead be imported from sklearn.neighbors. Anything that cannot be imported from sklearn.neighbors is now part of the private API.\n",
      "  warnings.warn(message, FutureWarning)\n",
      "C:\\Users\\User\\Anaconda3\\lib\\site-packages\\sklearn\\utils\\deprecation.py:143: FutureWarning: The sklearn.ensemble.bagging module is  deprecated in version 0.22 and will be removed in version 0.24. The corresponding classes / functions should instead be imported from sklearn.ensemble. Anything that cannot be imported from sklearn.ensemble is now part of the private API.\n",
      "  warnings.warn(message, FutureWarning)\n",
      "C:\\Users\\User\\Anaconda3\\lib\\site-packages\\sklearn\\utils\\deprecation.py:143: FutureWarning: The sklearn.ensemble.base module is  deprecated in version 0.22 and will be removed in version 0.24. The corresponding classes / functions should instead be imported from sklearn.ensemble. Anything that cannot be imported from sklearn.ensemble is now part of the private API.\n",
      "  warnings.warn(message, FutureWarning)\n",
      "C:\\Users\\User\\Anaconda3\\lib\\site-packages\\sklearn\\utils\\deprecation.py:143: FutureWarning: The sklearn.ensemble.forest module is  deprecated in version 0.22 and will be removed in version 0.24. The corresponding classes / functions should instead be imported from sklearn.ensemble. Anything that cannot be imported from sklearn.ensemble is now part of the private API.\n",
      "  warnings.warn(message, FutureWarning)\n",
      "Using TensorFlow backend.\n",
      "C:\\Users\\User\\Anaconda3\\lib\\site-packages\\tensorflow\\python\\framework\\dtypes.py:516: FutureWarning: Passing (type, 1) or '1type' as a synonym of type is deprecated; in a future version of numpy, it will be understood as (type, (1,)) / '(1,)type'.\n",
      "  _np_qint8 = np.dtype([(\"qint8\", np.int8, 1)])\n",
      "C:\\Users\\User\\Anaconda3\\lib\\site-packages\\tensorflow\\python\\framework\\dtypes.py:517: FutureWarning: Passing (type, 1) or '1type' as a synonym of type is deprecated; in a future version of numpy, it will be understood as (type, (1,)) / '(1,)type'.\n",
      "  _np_quint8 = np.dtype([(\"quint8\", np.uint8, 1)])\n",
      "C:\\Users\\User\\Anaconda3\\lib\\site-packages\\tensorflow\\python\\framework\\dtypes.py:518: FutureWarning: Passing (type, 1) or '1type' as a synonym of type is deprecated; in a future version of numpy, it will be understood as (type, (1,)) / '(1,)type'.\n",
      "  _np_qint16 = np.dtype([(\"qint16\", np.int16, 1)])\n",
      "C:\\Users\\User\\Anaconda3\\lib\\site-packages\\tensorflow\\python\\framework\\dtypes.py:519: FutureWarning: Passing (type, 1) or '1type' as a synonym of type is deprecated; in a future version of numpy, it will be understood as (type, (1,)) / '(1,)type'.\n",
      "  _np_quint16 = np.dtype([(\"quint16\", np.uint16, 1)])\n",
      "C:\\Users\\User\\Anaconda3\\lib\\site-packages\\tensorflow\\python\\framework\\dtypes.py:520: FutureWarning: Passing (type, 1) or '1type' as a synonym of type is deprecated; in a future version of numpy, it will be understood as (type, (1,)) / '(1,)type'.\n",
      "  _np_qint32 = np.dtype([(\"qint32\", np.int32, 1)])\n",
      "C:\\Users\\User\\Anaconda3\\lib\\site-packages\\tensorflow\\python\\framework\\dtypes.py:525: FutureWarning: Passing (type, 1) or '1type' as a synonym of type is deprecated; in a future version of numpy, it will be understood as (type, (1,)) / '(1,)type'.\n",
      "  np_resource = np.dtype([(\"resource\", np.ubyte, 1)])\n"
     ]
    },
    {
     "name": "stdout",
     "output_type": "stream",
     "text": [
      "        0         1      2    3         4         5         6         7  \\\n",
      "0     0.0  0.000000  0.000  0.0  0.000000  0.000000  0.000000  0.076923   \n",
      "1     0.0  0.000000  0.000  0.0  0.000000  0.038462  0.806452  0.076923   \n",
      "2     0.0  0.083333  0.125  0.0  0.000000  0.000000  0.483871  0.000000   \n",
      "3     0.0  0.000000  0.000  0.0  0.000000  0.000000  0.064516  0.000000   \n",
      "4     0.0  0.083333  0.000  0.0  0.000000  0.000000  0.032258  0.000000   \n",
      "...   ...       ...    ...  ...       ...       ...       ...       ...   \n",
      "8246  0.0  0.000000  0.000  0.0  0.000000  0.000000  0.225806  0.000000   \n",
      "8247  0.0  0.000000  0.250  0.0  0.000000  0.000000  0.774194  0.000000   \n",
      "8248  0.0  0.000000  0.000  0.0  0.272727  0.000000  0.677419  0.230769   \n",
      "8249  0.0  0.000000  0.000  0.0  0.090909  0.000000  0.096774  0.000000   \n",
      "8250  0.0  0.000000  0.000  0.0  0.000000  0.000000  0.032258  0.076923   \n",
      "\n",
      "             8    9   10    11   12   13        14        15        16   17  \\\n",
      "0     0.000000  0.0  0.0  0.05  0.0  0.0  0.000000  0.000000  0.000000  0.0   \n",
      "1     0.000000  0.0  0.0  0.00  0.0  0.0  0.000000  0.000000  0.071429  0.0   \n",
      "2     0.000000  0.4  0.0  0.05  0.3  0.1  0.000000  0.000000  0.142857  0.0   \n",
      "3     0.000000  0.0  0.0  0.00  0.0  0.0  0.000000  0.000000  0.000000  0.0   \n",
      "4     0.000000  0.0  0.0  0.10  0.0  0.0  0.133333  0.000000  0.000000  0.0   \n",
      "...        ...  ...  ...   ...  ...  ...       ...       ...       ...  ...   \n",
      "8246  0.181818  0.0  0.0  0.00  0.0  0.0  0.000000  0.000000  0.000000  0.0   \n",
      "8247  0.000000  0.0  0.0  0.00  0.0  0.0  0.000000  0.142857  0.000000  0.0   \n",
      "8248  0.272727  0.0  0.0  0.00  0.0  0.0  0.000000  0.000000  0.000000  0.0   \n",
      "8249  0.000000  0.0  0.0  0.00  0.0  0.0  0.000000  0.000000  0.000000  0.0   \n",
      "8250  0.000000  0.0  0.0  0.00  0.0  0.0  0.000000  0.142857  0.000000  0.0   \n",
      "\n",
      "            18   19  \n",
      "0     0.000000  0.0  \n",
      "1     0.000000  0.0  \n",
      "2     0.000000  0.0  \n",
      "3     0.000000  0.0  \n",
      "4     0.000000  0.0  \n",
      "...        ...  ...  \n",
      "8246  0.000000  0.0  \n",
      "8247  0.000000  0.0  \n",
      "8248  0.000000  0.0  \n",
      "8249  0.043478  0.0  \n",
      "8250  0.000000  0.0  \n",
      "\n",
      "[8251 rows x 20 columns]\n",
      "             0         1      2         3         4         5         6  \\\n",
      "0     0.000000  0.000000  0.125  0.000000  0.000000  0.000000  0.451613   \n",
      "1     0.032258  0.083333  0.000  0.000000  0.000000  0.000000  0.580645   \n",
      "2     0.000000  0.083333  0.000  0.000000  0.000000  0.076923  0.677419   \n",
      "3     0.000000  0.208333  0.375  0.000000  0.090909  0.000000  0.129032   \n",
      "4     0.000000  0.000000  0.000  0.111111  0.000000  0.000000  0.032258   \n",
      "...        ...       ...    ...       ...       ...       ...       ...   \n",
      "3978  0.000000  0.000000  0.000  0.000000  0.000000  0.000000  0.129032   \n",
      "3979  0.000000  0.125000  0.125  0.000000  0.000000  0.000000  0.612903   \n",
      "3980  0.161290  0.000000  0.250  0.000000  0.272727  0.000000  0.258065   \n",
      "3981  0.000000  0.000000  0.000  0.111111  0.000000  0.000000  0.032258   \n",
      "3982  0.000000  0.000000  0.000  0.000000  0.000000  0.000000  0.000000   \n",
      "\n",
      "             7         8         9   10    11   12   13        14        15  \\\n",
      "0     0.000000  0.090909  0.466667  0.0  0.05  0.3  0.0  0.000000  0.142857   \n",
      "1     0.000000  0.181818  0.000000  0.0  0.10  0.2  0.1  0.000000  0.428571   \n",
      "2     0.000000  0.000000  0.066667  0.0  0.05  0.1  0.2  0.000000  0.000000   \n",
      "3     0.153846  0.000000  0.066667  0.0  0.00  0.0  0.0  0.133333  0.142857   \n",
      "4     0.000000  0.000000  0.133333  0.0  0.00  0.0  0.0  0.000000  0.000000   \n",
      "...        ...       ...       ...  ...   ...  ...  ...       ...       ...   \n",
      "3978  0.000000  0.000000  0.000000  0.0  0.10  0.0  0.0  0.066667  0.000000   \n",
      "3979  0.000000  0.000000  0.333333  0.0  0.05  0.0  0.0  0.000000  0.000000   \n",
      "3980  0.230769  0.000000  0.133333  0.0  0.15  0.1  0.0  0.200000  0.000000   \n",
      "3981  0.000000  0.000000  0.000000  0.0  0.00  0.0  0.0  0.000000  0.000000   \n",
      "3982  0.000000  0.000000  0.066667  0.0  0.00  0.0  0.0  0.000000  0.000000   \n",
      "\n",
      "            16        17        18        19  \n",
      "0     0.000000  0.153846  0.043478  0.000000  \n",
      "1     0.000000  0.000000  0.000000  0.000000  \n",
      "2     0.071429  0.000000  0.000000  0.000000  \n",
      "3     0.000000  0.000000  0.000000  0.000000  \n",
      "4     0.000000  0.000000  0.000000  0.000000  \n",
      "...        ...       ...       ...       ...  \n",
      "3978  0.000000  0.000000  0.000000  0.000000  \n",
      "3979  0.000000  0.000000  0.086957  0.000000  \n",
      "3980  0.000000  0.076923  0.000000  0.000000  \n",
      "3981  0.071429  0.000000  0.000000  0.000000  \n",
      "3982  0.071429  0.000000  0.000000  0.333333  \n",
      "\n",
      "[3983 rows x 20 columns]\n"
     ]
    },
    {
     "name": "stderr",
     "output_type": "stream",
     "text": [
      "C:\\Users\\User\\Anaconda3\\lib\\site-packages\\sklearn\\utils\\deprecation.py:143: FutureWarning: The sklearn.utils.testing module is  deprecated in version 0.22 and will be removed in version 0.24. The corresponding classes / functions should instead be imported from sklearn.utils. Anything that cannot be imported from sklearn.utils is now part of the private API.\n",
      "  warnings.warn(message, FutureWarning)\n",
      "C:\\Users\\User\\Anaconda3\\lib\\site-packages\\sklearn\\utils\\deprecation.py:143: FutureWarning: The sklearn.metrics.classification module is  deprecated in version 0.22 and will be removed in version 0.24. The corresponding classes / functions should instead be imported from sklearn.metrics. Anything that cannot be imported from sklearn.metrics is now part of the private API.\n",
      "  warnings.warn(message, FutureWarning)\n"
     ]
    }
   ],
   "source": [
    "from imblearn import under_sampling, over_sampling\n",
    "from imblearn.over_sampling import SMOTE\n",
    "import pandas as pd\n",
    "# KMeans clustering a kind of clustering.\n",
    "from sklearn.cluster import KMeans\n",
    "\n",
    "df = pd.read_csv(path+\"train_kmeans_svd.csv\") \n",
    "df_test = pd.read_csv(path+\"test_kmeanssvd.csv\")\n",
    "\n",
    "from sklearn import preprocessing\n",
    "x = df.values #returns a numpy array\n",
    "min_max_scaler = preprocessing.MinMaxScaler()\n",
    "x_scaled = min_max_scaler.fit_transform(x)\n",
    "df = pd.DataFrame(x_scaled)\n",
    "x = df_test.values #returns a numpy array\n",
    "x_scaled = min_max_scaler.transform(x)\n",
    "df_test = pd.DataFrame(x_scaled)\n",
    "\n",
    "print(df)\n",
    "print(df_test)"
   ]
  },
  {
   "cell_type": "code",
   "execution_count": 6,
   "metadata": {},
   "outputs": [],
   "source": [
    "y_test = np.loadtxt(\"C:/Users/User/Desktop/AI/10. Artificial Intelligence/4. 4rth semester/Advanced ML/project/datasets/DeliciousMIL/Data/test-label.dat\")\n",
    "y_train = np.loadtxt(\"C:/Users/User/Desktop/AI/10. Artificial Intelligence/4. 4rth semester/Advanced ML/project/datasets/DeliciousMIL/Data/train-label.dat\")"
   ]
  },
  {
   "cell_type": "code",
   "execution_count": 7,
   "metadata": {},
   "outputs": [],
   "source": [
    "from sklearn.feature_extraction.text import TfidfTransformer\n",
    "\n",
    "# path = \"./Data\"\n",
    "def read_train(path):\n",
    "    with open(path) as f:\n",
    "        line = f.readline()\n",
    "        docs = []\n",
    "        docs_bin = []\n",
    "        while line:\n",
    "            line = line.rstrip('\\n').split()\n",
    "            L = []\n",
    "            for i in line:\n",
    "                try:\n",
    "                    L.append(int(i))\n",
    "                except:\n",
    "                    continue\n",
    "            docs.append(np.array(L))\n",
    "\n",
    "            words_bin = np.zeros(8520)\n",
    "            for i in L:\n",
    "                words_bin[i] += 1\n",
    "\n",
    "            docs_bin.append(words_bin)\n",
    "            line = f.readline()\n",
    "        docs = np.array(docs)\n",
    "        docs_bin = np.array(docs_bin)\n",
    "    return docs_bin, docs\n",
    "\n",
    "# normalize\n",
    "def tfIdf(docs_bin):\n",
    "    tf_transformer = TfidfTransformer(use_idf=False).fit(docs_bin)\n",
    "    X_train_tf = tf_transformer.transform(docs_bin)\n",
    "    return X_train_tf\n",
    "# return the name of the classifier\n",
    "def print_estimator_name(estimator):\n",
    "    return estimator.__class__.__name__"
   ]
  },
  {
   "cell_type": "code",
   "execution_count": 8,
   "metadata": {
    "scrolled": false
   },
   "outputs": [
    {
     "name": "stdout",
     "output_type": "stream",
     "text": [
      "\n",
      "Classifier: RandomForestClassifier \n"
     ]
    },
    {
     "name": "stderr",
     "output_type": "stream",
     "text": [
      "C:\\Users\\User\\Anaconda3\\lib\\site-packages\\sklearn\\utils\\deprecation.py:86: FutureWarning: Function safe_indexing is deprecated; safe_indexing is deprecated in version 0.22 and will be removed in version 0.24.\n",
      "  warnings.warn(msg, category=FutureWarning)\n"
     ]
    },
    {
     "name": "stdout",
     "output_type": "stream",
     "text": [
      "\n",
      "Balanced accuracy per label \n",
      "programming : 0.575 \n",
      "style : 0.525 \n",
      "reference : 0.532 \n",
      "java : 0.541 \n",
      "web : 0.584 \n",
      "internet : 0.508 \n",
      "culture : 0.529 \n",
      "design : 0.531 \n",
      "education : 0.532 \n",
      "language : 0.513 \n",
      "books : 0.499 \n",
      "writing : 0.523 \n",
      "computer : 0.517 \n",
      "english : 0.521 \n",
      "politics : 0.548 \n",
      "history : 0.528 \n",
      "philosophy : 0.545 \n",
      "science : 0.52 \n",
      "religion : 0.546 \n",
      "grammar : 0.51 \n",
      "\n",
      "Classifier: SVC \n"
     ]
    },
    {
     "name": "stderr",
     "output_type": "stream",
     "text": [
      "C:\\Users\\User\\Anaconda3\\lib\\site-packages\\sklearn\\utils\\deprecation.py:86: FutureWarning: Function safe_indexing is deprecated; safe_indexing is deprecated in version 0.22 and will be removed in version 0.24.\n",
      "  warnings.warn(msg, category=FutureWarning)\n"
     ]
    },
    {
     "name": "stdout",
     "output_type": "stream",
     "text": [
      "\n",
      "Balanced accuracy per label \n",
      "programming : 0.579 \n",
      "style : 0.514 \n",
      "reference : 0.538 \n",
      "java : 0.546 \n",
      "web : 0.586 \n",
      "internet : 0.519 \n",
      "culture : 0.554 \n",
      "design : 0.516 \n",
      "education : 0.543 \n",
      "language : 0.543 \n",
      "books : 0.521 \n",
      "writing : 0.511 \n",
      "computer : 0.527 \n",
      "english : 0.519 \n",
      "politics : 0.541 \n",
      "history : 0.541 \n",
      "philosophy : 0.54 \n",
      "science : 0.517 \n",
      "religion : 0.54 \n",
      "grammar : 0.516 \n",
      "\n",
      "Classifier: KNeighborsClassifier \n"
     ]
    },
    {
     "name": "stderr",
     "output_type": "stream",
     "text": [
      "C:\\Users\\User\\Anaconda3\\lib\\site-packages\\sklearn\\utils\\deprecation.py:86: FutureWarning: Function safe_indexing is deprecated; safe_indexing is deprecated in version 0.22 and will be removed in version 0.24.\n",
      "  warnings.warn(msg, category=FutureWarning)\n"
     ]
    },
    {
     "name": "stdout",
     "output_type": "stream",
     "text": [
      "\n",
      "Balanced accuracy per label \n",
      "programming : 0.55 \n",
      "style : 0.517 \n",
      "reference : 0.536 \n",
      "java : 0.519 \n",
      "web : 0.553 \n",
      "internet : 0.512 \n",
      "culture : 0.545 \n",
      "design : 0.515 \n",
      "education : 0.527 \n",
      "language : 0.517 \n",
      "books : 0.514 \n",
      "writing : 0.506 \n",
      "computer : 0.519 \n",
      "english : 0.519 \n",
      "politics : 0.524 \n",
      "history : 0.523 \n",
      "philosophy : 0.539 \n",
      "science : 0.532 \n",
      "religion : 0.538 \n",
      "grammar : 0.506 \n"
     ]
    }
   ],
   "source": [
    "from skmultilearn.problem_transform import LabelPowerset\n",
    "from sklearn.ensemble import RandomForestClassifier\n",
    "from sklearn import metrics\n",
    "from sklearn.neighbors import KNeighborsClassifier\n",
    "from sklearn.svm import SVC\n",
    "from imblearn.over_sampling import RandomOverSampler\n",
    "classifiers = [RandomForestClassifier(n_estimators=50, criterion='gini'),\n",
    "               SVC(kernel='rbf', C=1),\n",
    "              KNeighborsClassifier(n_neighbors=60)]\n",
    "\n",
    "for clas in classifiers:\n",
    "    classs = print_estimator_name(clas) #['classifier']\n",
    "        \n",
    "    print(\"\\nClassifier: %s \" %classs)    \n",
    "    cl = LabelPowerset(classifier = clas, require_dense=[True, True])    \n",
    "    rus = RandomOverSampler(random_state=42)\n",
    "    # Applies the above stated multi-label (ML) to multi-class (MC) transformation.\n",
    "    yt = cl.transform(y_train)    \n",
    "    X_resampled, y_resampled = rus.fit_sample(df, yt)\n",
    "    # Inverts the ML-MC transformation to recreate the ML set\n",
    "    y_resampled = cl.inverse_transform(y_resampled)\n",
    "    cl.fit(X_resampled, y_resampled)\n",
    "    pred = cl.predict(df_test)\n",
    "    \n",
    "    conf_matr = metrics.multilabel_confusion_matrix(y_test, pred)\n",
    "    \n",
    "    \n",
    "    BA=[]\n",
    "    for i in range(len(labels)):\n",
    "        TPR = conf_matr[i][1][1]/(conf_matr[i][1][1]+conf_matr[i][1][0]) # TPR=TP/(TP+FN) #Recall\n",
    "        TNR = conf_matr[i][0][0]/(conf_matr[i][0][0]+conf_matr[i][0][1]) # TNR = TN/(TN+FP) #specificity\n",
    "        balanced_accuracy = round((TPR+TNR)/2,3)\n",
    "        BA.append(balanced_accuracy)\n",
    "    print(\"\\nBalanced accuracy per label \")\n",
    "    for i in range(len(labels)):\n",
    "        print(str(labels[i]) + \" : %s \" % (BA[i]))"
   ]
  },
  {
   "cell_type": "code",
   "execution_count": null,
   "metadata": {},
   "outputs": [],
   "source": []
  },
  {
   "cell_type": "markdown",
   "metadata": {},
   "source": [
    "# KMEDOIDS + oversampling + LabelPowerset"
   ]
  },
  {
   "cell_type": "code",
   "execution_count": null,
   "metadata": {},
   "outputs": [],
   "source": []
  },
  {
   "cell_type": "code",
   "execution_count": 10,
   "metadata": {},
   "outputs": [
    {
     "name": "stdout",
     "output_type": "stream",
     "text": [
      "             0         1         2         3         4         5         6  \\\n",
      "0     0.411673  0.388430  0.404783  0.413735  0.769393  0.490839  0.391764   \n",
      "1     0.369552  0.317777  0.349334  0.376509  0.699793  0.441586  0.358040   \n",
      "2     0.416446  0.399909  0.378886  0.426056  0.699012  0.440425  0.317730   \n",
      "3     0.231901  0.333106  0.354006  0.186521  0.644358  0.472198  0.362057   \n",
      "4     0.386236  0.359004  0.348597  0.436663  0.639147  0.442272  0.387252   \n",
      "...        ...       ...       ...       ...       ...       ...       ...   \n",
      "8246  0.389988  0.551603  0.324089  0.578913  0.643814  0.408309  0.394992   \n",
      "8247  0.323690  0.296377  0.332253  0.335089  0.740504  0.442786  0.314955   \n",
      "8248  0.388826  0.498195  0.387218  0.473230  0.669274  0.447291  0.324793   \n",
      "8249  0.316512  0.268079  0.350391  0.278391  0.740810  0.451390  0.326476   \n",
      "8250  0.408631  0.369471  0.385515  0.410090  0.684419  0.491908  0.383633   \n",
      "\n",
      "             7         8         9        10        11        12        13  \\\n",
      "0     0.397515  0.493306  0.786947  0.515086  0.378590  0.701567  0.403727   \n",
      "1     0.231710  0.546443  0.708421  0.474765  0.297342  0.685997  0.356087   \n",
      "2     0.385963  0.509910  0.715551  0.473964  0.397180  0.545069  0.415641   \n",
      "3     0.311079  0.537338  0.678362  0.487862  0.297636  0.617437  0.301104   \n",
      "4     0.399641  0.507609  0.666252  0.484363  0.251231  0.686070  0.407246   \n",
      "...        ...       ...       ...       ...       ...       ...       ...   \n",
      "8246  0.553342  0.329121  0.677104  0.361696  0.554558  0.683032  0.563954   \n",
      "8247  0.303482  0.525104  0.762569  0.474138  0.328347  0.675766  0.310841   \n",
      "8248  0.497948  0.320008  0.692141  0.401336  0.393910  0.676659  0.477317   \n",
      "8249  0.285419  0.548194  0.763105  0.480393  0.297280  0.650936  0.304014   \n",
      "8250  0.389066  0.580059  0.741451  0.526523  0.385134  0.471317  0.407056   \n",
      "\n",
      "            14        15        16        17        18        19  \n",
      "0     0.481730  0.416331  0.404703  0.671223  0.326101  0.484760  \n",
      "1     0.551933  0.356175  0.346420  0.348154  0.354178  0.442958  \n",
      "2     0.503888  0.327035  0.303346  0.489064  0.313553  0.448699  \n",
      "3     0.545592  0.293510  0.362710  0.674066  0.278532  0.461934  \n",
      "4     0.501964  0.366979  0.382759  0.644647  0.402997  0.453406  \n",
      "...        ...       ...       ...       ...       ...       ...  \n",
      "8246  0.286155  0.554398  0.534471  0.564997  0.381154  0.586001  \n",
      "8247  0.526531  0.353804  0.355025  0.648208  0.292959  0.435753  \n",
      "8248  0.244804  0.431233  0.373027  0.598019  0.378005  0.543850  \n",
      "8249  0.552359  0.360404  0.359590  0.645250  0.274569  0.294026  \n",
      "8250  0.587276  0.416245  0.370900  0.669951  0.314044  0.489427  \n",
      "\n",
      "[8251 rows x 20 columns]\n",
      "             0         1         2         3         4         5         6  \\\n",
      "0     0.561651  0.529130  0.470009  0.566092  0.647770  0.453103  0.443245   \n",
      "1     0.466154  0.388224  0.316031  0.479698  0.741372  0.308218  0.415387   \n",
      "2     0.381890  0.302484  0.369178  0.414501  0.619080  0.420179  0.393699   \n",
      "3     0.470169  0.450986  0.380423  0.467571  0.727886  0.462441  0.441258   \n",
      "4     0.802968  0.728820  0.670277  0.802765  0.330660  0.660324  0.773978   \n",
      "...        ...       ...       ...       ...       ...       ...       ...   \n",
      "3978  0.289360  0.298080  0.334276  0.285945  0.742990  0.446482  0.323201   \n",
      "3979  0.475357  0.383379  0.379789  0.440472  0.736500  0.417212  0.363589   \n",
      "3980  0.380460  0.373096  0.300260  0.484426  0.691513  0.356564  0.347364   \n",
      "3981  0.980139  0.893377  0.841030  0.982099  0.328168  0.808265  0.945668   \n",
      "3982  0.797880  0.688678  0.751562  0.801729  0.653936  0.621710  0.772441   \n",
      "\n",
      "             7         8         9        10        11        12        13  \\\n",
      "0     0.518909  0.435362  0.677089  0.430377  0.517053  0.579850  0.556822   \n",
      "1     0.449258  0.368603  0.764942  0.414492  0.430355  0.627683  0.459659   \n",
      "2     0.372332  0.491491  0.664066  0.475990  0.355836  0.673043  0.393861   \n",
      "3     0.458771  0.515867  0.766066  0.448407  0.438761  0.610069  0.457193   \n",
      "4     0.783473  0.579040  0.256645  0.483774  0.694948  0.687317  0.671051   \n",
      "...        ...       ...       ...       ...       ...       ...       ...   \n",
      "3978  0.287356  0.493325  0.765881  0.481523  0.244157  0.677975  0.280201   \n",
      "3979  0.429588  0.477833  0.764805  0.397215  0.386240  0.625118  0.470284   \n",
      "3980  0.387369  0.505534  0.716994  0.468520  0.353756  0.674309  0.393435   \n",
      "3981  0.957015  0.727651  0.272699  0.612979  0.866407  0.686045  0.842745   \n",
      "3982  0.631277  0.677367  0.694357  0.554630  0.643485  0.705289  0.778316   \n",
      "\n",
      "            14        15        16        17        18        19  \n",
      "0     0.468804  0.468485  0.425136  0.609173  0.457774  0.548808  \n",
      "1     0.380968  0.411069  0.419821  0.642310  0.372663  0.520336  \n",
      "2     0.473496  0.398091  0.375124  0.598195  0.403081  0.451117  \n",
      "3     0.520288  0.466890  0.467619  0.645859  0.436731  0.482454  \n",
      "4     0.681377  0.564990  0.668467  0.648793  0.787372  0.765974  \n",
      "...        ...       ...       ...       ...       ...       ...  \n",
      "3978  0.481672  0.363873  0.360543  0.649640  0.273077  0.444407  \n",
      "3979  0.487487  0.406280  0.411017  0.628079  0.403314  0.453063  \n",
      "3980  0.494937  0.360551  0.386890  0.614813  0.460994  0.503906  \n",
      "3981  0.832274  0.724936  0.835038  0.793513  0.961130  0.920735  \n",
      "3982  0.674890  0.734278  0.749372  0.313223  0.774407  0.755784  \n",
      "\n",
      "[3983 rows x 20 columns]\n"
     ]
    }
   ],
   "source": [
    "from imblearn import under_sampling, over_sampling\n",
    "from imblearn.over_sampling import RandomOverSampler\n",
    "import pandas as pd\n",
    "# KMeans clustering a kind of clustering.\n",
    "from sklearn.cluster import KMeans\n",
    "\n",
    "df_ = pd.read_csv(path+\"train_kmedoids__.csv\") \n",
    "df_test_ = pd.read_csv(path+\"test_kmedoids__.csv\")\n",
    "df_ = df_.iloc[:,1:]\n",
    "df_test_= df_test_.iloc[:,1:]\n",
    "from sklearn import preprocessing\n",
    "x_ = df_.values #returns a numpy array\n",
    "min_max_scaler_ = preprocessing.MinMaxScaler()\n",
    "x_scaled_ = min_max_scaler.fit_transform(x_)\n",
    "df_ = pd.DataFrame(x_scaled_)\n",
    "x_ = df_test_.values #returns a numpy array\n",
    "x_scaled_ = min_max_scaler.transform(x_)\n",
    "df_test_ = pd.DataFrame(x_scaled_)\n",
    "print(df_)\n",
    "print(df_test_)"
   ]
  },
  {
   "cell_type": "code",
   "execution_count": 11,
   "metadata": {},
   "outputs": [
    {
     "name": "stdout",
     "output_type": "stream",
     "text": [
      "\n",
      "Classifier: RandomForestClassifier \n"
     ]
    },
    {
     "name": "stderr",
     "output_type": "stream",
     "text": [
      "C:\\Users\\User\\Anaconda3\\lib\\site-packages\\sklearn\\utils\\deprecation.py:86: FutureWarning: Function safe_indexing is deprecated; safe_indexing is deprecated in version 0.22 and will be removed in version 0.24.\n",
      "  warnings.warn(msg, category=FutureWarning)\n"
     ]
    },
    {
     "name": "stdout",
     "output_type": "stream",
     "text": [
      "\n",
      "Balanced accuracy per label \n",
      "programming : 0.555 \n",
      "style : 0.524 \n",
      "reference : 0.513 \n",
      "java : 0.542 \n",
      "web : 0.556 \n",
      "internet : 0.524 \n",
      "culture : 0.529 \n",
      "design : 0.531 \n",
      "education : 0.529 \n",
      "language : 0.523 \n",
      "books : 0.524 \n",
      "writing : 0.51 \n",
      "computer : 0.503 \n",
      "english : 0.513 \n",
      "politics : 0.551 \n",
      "history : 0.504 \n",
      "philosophy : 0.512 \n",
      "science : 0.518 \n",
      "religion : 0.539 \n",
      "grammar : 0.532 \n",
      "\n",
      "Classifier: SVC \n"
     ]
    },
    {
     "name": "stderr",
     "output_type": "stream",
     "text": [
      "C:\\Users\\User\\Anaconda3\\lib\\site-packages\\sklearn\\utils\\deprecation.py:86: FutureWarning: Function safe_indexing is deprecated; safe_indexing is deprecated in version 0.22 and will be removed in version 0.24.\n",
      "  warnings.warn(msg, category=FutureWarning)\n"
     ]
    },
    {
     "name": "stdout",
     "output_type": "stream",
     "text": [
      "\n",
      "Balanced accuracy per label \n",
      "programming : 0.56 \n",
      "style : 0.512 \n",
      "reference : 0.506 \n",
      "java : 0.532 \n",
      "web : 0.531 \n",
      "internet : 0.51 \n",
      "culture : 0.548 \n",
      "design : 0.507 \n",
      "education : 0.523 \n",
      "language : 0.505 \n",
      "books : 0.512 \n",
      "writing : 0.534 \n",
      "computer : 0.521 \n",
      "english : 0.509 \n",
      "politics : 0.531 \n",
      "history : 0.528 \n",
      "philosophy : 0.543 \n",
      "science : 0.543 \n",
      "religion : 0.523 \n",
      "grammar : 0.509 \n",
      "\n",
      "Classifier: KNeighborsClassifier \n"
     ]
    },
    {
     "name": "stderr",
     "output_type": "stream",
     "text": [
      "C:\\Users\\User\\Anaconda3\\lib\\site-packages\\sklearn\\utils\\deprecation.py:86: FutureWarning: Function safe_indexing is deprecated; safe_indexing is deprecated in version 0.22 and will be removed in version 0.24.\n",
      "  warnings.warn(msg, category=FutureWarning)\n"
     ]
    },
    {
     "name": "stdout",
     "output_type": "stream",
     "text": [
      "\n",
      "Balanced accuracy per label \n",
      "programming : 0.551 \n",
      "style : 0.519 \n",
      "reference : 0.524 \n",
      "java : 0.525 \n",
      "web : 0.535 \n",
      "internet : 0.51 \n",
      "culture : 0.535 \n",
      "design : 0.514 \n",
      "education : 0.532 \n",
      "language : 0.517 \n",
      "books : 0.506 \n",
      "writing : 0.533 \n",
      "computer : 0.509 \n",
      "english : 0.512 \n",
      "politics : 0.536 \n",
      "history : 0.535 \n",
      "philosophy : 0.516 \n",
      "science : 0.534 \n",
      "religion : 0.525 \n",
      "grammar : 0.541 \n"
     ]
    }
   ],
   "source": [
    "from skmultilearn.problem_transform import LabelPowerset\n",
    "from sklearn.ensemble import RandomForestClassifier\n",
    "from sklearn import metrics\n",
    "from sklearn.neighbors import KNeighborsClassifier\n",
    "from sklearn.svm import SVC\n",
    "classifiers = [RandomForestClassifier(n_estimators=50, criterion='gini'),\n",
    "               SVC(kernel='rbf', C=1),\n",
    "              KNeighborsClassifier(n_neighbors=60)]\n",
    "\n",
    "for clas in classifiers:\n",
    "    cl = print_estimator_name(clas)\n",
    "        \n",
    "    print(\"\\nClassifier: %s \" %cl)    \n",
    "    cl = LabelPowerset(classifier = clas, require_dense=[True, True])    \n",
    "    rus = RandomOverSampler(random_state=42)\n",
    "    # Applies the above stated multi-label (ML) to multi-class (MC) transformation.\n",
    "    yt = cl.transform(y_train)    \n",
    "    X_resampled, y_resampled = rus.fit_sample(df_, yt)\n",
    "    # Inverts the ML-MC transformation to recreate the ML set\n",
    "    y_resampled = cl.inverse_transform(y_resampled)\n",
    "    cl.fit(X_resampled, y_resampled)\n",
    "    pred = cl.predict(df_test_)\n",
    "    \n",
    "    conf_matr = metrics.multilabel_confusion_matrix(y_test, pred)\n",
    "    \n",
    "    BA=[]\n",
    "    for i in range(len(labels)):\n",
    "        TPR = conf_matr[i][1][1]/(conf_matr[i][1][1]+conf_matr[i][1][0]) # TPR=TP/(TP+FN) #Recall\n",
    "        TNR = conf_matr[i][0][0]/(conf_matr[i][0][0]+conf_matr[i][0][1]) # TNR = TN/(TN+FP) #specificity\n",
    "        balanced_accuracy = round((TPR+TNR)/2,3)\n",
    "        BA.append(balanced_accuracy)\n",
    "    print(\"\\nBalanced accuracy per label \")\n",
    "    for i in range(len(labels)):\n",
    "        print(str(labels[i]) + \" : %s \" % (BA[i]))"
   ]
  }
 ],
 "metadata": {
  "kernelspec": {
   "display_name": "Python 3",
   "language": "python",
   "name": "python3"
  },
  "language_info": {
   "codemirror_mode": {
    "name": "ipython",
    "version": 3
   },
   "file_extension": ".py",
   "mimetype": "text/x-python",
   "name": "python",
   "nbconvert_exporter": "python",
   "pygments_lexer": "ipython3",
   "version": "3.7.4"
  }
 },
 "nbformat": 4,
 "nbformat_minor": 2
}
